{
 "cells": [
  {
   "cell_type": "code",
   "execution_count": null,
   "metadata": {},
   "outputs": [],
   "source": [
    "#| hide"
   ]
  },
  {
   "cell_type": "markdown",
   "metadata": {},
   "source": [
    "# sott\n",
    "\n",
    "> Simple Pixel Offset Tracking Tool"
   ]
  },
  {
   "cell_type": "markdown",
   "metadata": {},
   "source": [
    "[![GitHub](https://img.shields.io/github/license/kanglcn/sott?color=g)](https://github.com/kanglcn/sott/blob/main/LICENSE)\n",
    "[![Conda](https://img.shields.io/conda/v/conda-forge/sott)](https://anaconda.org/conda-forge/sott)\n",
    "[![PyPI](https://img.shields.io/pypi/v/sott)](https://pypi.org/project/sott/)\n",
    "[![PyPI - Python Version](https://img.shields.io/pypi/pyversions/sott)](https://pypi.org/project/sott/)"
   ]
  },
  {
   "cell_type": "markdown",
   "metadata": {},
   "source": [
    "`sott` implements pixel offset tracking method based on amplitude of SAR images or optical images."
   ]
  },
  {
   "cell_type": "markdown",
   "metadata": {},
   "source": [
    "## Install\n",
    "\n",
    "With conda:\n",
    "\n",
    "```\n",
    "conda install -c conda-forge sott\n",
    "```\n",
    "\n",
    "With pip:\n",
    "\n",
    "```\n",
    "pip install sott\n",
    "```\n",
    "\n",
    "In development mode:\n",
    "\n",
    "```\n",
    "git clone git@github.com:kanglcn/sott.git ./sott\n",
    "cd ./sott\n",
    "pip install -e '.[dev]'\n",
    "```"
   ]
  },
  {
   "cell_type": "markdown",
   "metadata": {},
   "source": [
    "## How to use"
   ]
  },
  {
   "cell_type": "code",
   "execution_count": null,
   "metadata": {},
   "outputs": [],
   "source": [
    "import sott as ot"
   ]
  },
  {
   "cell_type": "markdown",
   "metadata": {},
   "source": [
    "Please refer to the [Documentation](https://kanglcn.github.io/sott) for detailed usage."
   ]
  },
  {
   "cell_type": "markdown",
   "metadata": {},
   "source": [
    "## Contact us"
   ]
  },
  {
   "cell_type": "markdown",
   "metadata": {},
   "source": [
    "- Most discussion happens on [GitHub](https://github.com/kanglcn/sott). Feel free to [open an issue](https://github.com/kanglcn/sott/issues/new) or comment on any open issue or pull request.\n",
    "- use github [discussions](https://github.com/kanglcn/sott/discussions) to ask questions or leave comments."
   ]
  },
  {
   "cell_type": "markdown",
   "metadata": {},
   "source": [
    "## Contribution\n",
    "- Pull requests are welcomed! Before making a pull request, please open an issue to talk about it.\n",
    "- We have notice many excellent open-source packages are rarely paid attention to due to lake of documentation. The package is developed with the [nbdev](https://nbdev.fast.ai/), a notebook-driven development platform. Developers only needs to simply write notebooks with lightweight markup and get high-quality documentation, tests, continuous integration, and packaging automatically."
   ]
  },
  {
   "cell_type": "code",
   "execution_count": null,
   "metadata": {},
   "outputs": [],
   "source": []
  }
 ],
 "metadata": {
  "kernelspec": {
   "display_name": "Python 3 (ipykernel)",
   "language": "python",
   "name": "python3"
  }
 },
 "nbformat": 4,
 "nbformat_minor": 4
}
